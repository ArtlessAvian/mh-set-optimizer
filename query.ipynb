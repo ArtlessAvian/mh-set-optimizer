{
 "cells": [
  {
   "cell_type": "code",
   "execution_count": 416,
   "metadata": {},
   "outputs": [
    {
     "name": "stdout",
     "output_type": "stream",
     "text": [
      "{'id': '1470', 'name_en': 'Wyverian Ears α+', 'rarity': '9', 'type': 'head', 'gender': 'both', 'slot_1': '4', 'slot_2': '0', 'slot_3': '0', 'defense_base': '140', 'defense_max': '178', 'defense_augment_max': '198', 'defense_fire': '1', 'defense_water': '1', 'defense_thunder': '1', 'defense_ice': '1', 'defense_dragon': '5'}\n",
      "{'base_name_en': 'Leather Headgear', 'skill1_name': 'Hunger Resistance', 'skill1_level': '1', 'skill2_name': '', 'skill2_level': ''}\n",
      "{'id': '1', 'name_en': 'Poison Charm I', 'previous_en': '', 'rarity': '3', 'skill1_name': 'Poison Resistance', 'skill1_level': '1', 'skill2_name': '', 'skill2_level': ''}\n"
     ]
    }
   ],
   "source": [
    "import csv\n",
    "import pprint\n",
    "\n",
    "# with open(\"skill_levels.csv\", encoding=\"utf8\") as f:\n",
    "#     skill_table = [x for x in csv.DictReader(f)]\n",
    "\n",
    "with open(\"armor_base.csv\", encoding=\"utf8\") as f:\n",
    "    armor_table = [x for x in csv.DictReader(f)]\n",
    "\n",
    "with open(\"armor_skills_ext.csv\", encoding=\"utf8\") as f:\n",
    "    armor_skills_table = dict((x[\"base_name_en\"], x) for x in csv.DictReader(f))\n",
    "\n",
    "with open(\"charm_base.csv\", encoding=\"utf8\") as f:\n",
    "    charm_table = [x for x in csv.DictReader(f)]\n",
    "\n",
    "print(armor_table[-1])\n",
    "print(armor_skills_table[\"Leather Headgear\"])\n",
    "print(charm_table[0])\n"
   ]
  },
  {
   "cell_type": "code",
   "execution_count": 417,
   "metadata": {},
   "outputs": [],
   "source": [
    "# join and reformat.\n",
    "equipment_table = []\n",
    "for armor in armor_table:\n",
    "    if int(armor[\"rarity\"]) < 8:\n",
    "        continue\n",
    "    equipment_table.append({\n",
    "        \"name_en\": armor[\"name_en\"],\n",
    "        \"rarity\": int(armor[\"rarity\"]),\n",
    "        \"type\": armor[\"type\"],\n",
    "        \"slot_1\": int(armor[\"slot_1\"]),\n",
    "        \"slot_2\": int(armor[\"slot_2\"]),\n",
    "        \"slot_3\": int(armor[\"slot_3\"]),\n",
    "        \"defense_base\": int(armor[\"defense_base\"]),\n",
    "        \"defense_max\": int(armor[\"defense_max\"]),\n",
    "        \"defense_augment_max\": int(armor[\"defense_augment_max\"]),\n",
    "        # and whatever ig\n",
    "\n",
    "        \"skill1_name\": armor_skills_table[armor[\"name_en\"]][\"skill1_name\"],\n",
    "        \"skill1_level\": int(armor_skills_table[armor[\"name_en\"]][\"skill1_level\"]) if armor_skills_table[armor[\"name_en\"]][\"skill1_name\"] != \"\" else 0,\n",
    "        \"skill2_name\": armor_skills_table[armor[\"name_en\"]][\"skill2_name\"],\n",
    "        \"skill2_level\": int(armor_skills_table[armor[\"name_en\"]][\"skill2_level\"]) if armor_skills_table[armor[\"name_en\"]][\"skill2_name\"] != \"\" else 0,\n",
    "    })\n",
    "for charm in charm_table:\n",
    "    equipment_table.append({\n",
    "        \"name_en\": charm[\"name_en\"],\n",
    "        \"rarity\": int(charm[\"rarity\"]),\n",
    "        \"type\": \"charm\",\n",
    "        \"slot_1\": 0,\n",
    "        \"slot_2\": 0,\n",
    "        \"slot_3\": 0,\n",
    "        \"defense_base\": 0,\n",
    "        \"defense_max\": 0,\n",
    "        \"defense_augment_max\": 0,\n",
    "        # and whatever ig\n",
    "\n",
    "        \"skill1_name\": charm[\"skill1_name\"],\n",
    "        \"skill1_level\": int(charm[\"skill1_level\"]) if charm[\"skill1_name\"] != \"\" else 0,\n",
    "        \"skill2_name\": charm[\"skill2_name\"],\n",
    "        \"skill2_level\": int(charm[\"skill2_level\"]) if charm[\"skill2_name\"] != \"\" else 0,\n",
    "    })"
   ]
  },
  {
   "cell_type": "code",
   "execution_count": 418,
   "metadata": {},
   "outputs": [
    {
     "name": "stdout",
     "output_type": "stream",
     "text": [
      "('Affinity Sliding', 'Agitator', 'Airborne', 'Aquatic/Polar Mobility', 'Artillery', 'Attack Boost')\n",
      "('BBQ Master', 'Blast Attack', 'Blast Resistance', 'Bleeding Resistance', 'Blight Resistance', 'Blindsider', 'Bombardier', 'Botanist')\n",
      "('Capacity Boost', 'Carving Pro', 'Cliffhanger', 'Coalescence', 'Constitution', 'Critical Boost', 'Critical Draw', 'Critical Eye')\n",
      "('Defense Boost', 'Detector', 'Divine Blessing', 'Dragon Attack', 'Dragon Resistance', 'Dungmaster')\n",
      "('Earplugs', 'Effluvia Resistance', 'Effluvial Expert', 'Elderseal Boost', 'Entomologist', 'Evade Extender', 'Evade Window')\n",
      "('Fire Attack', 'Fire Resistance', 'Flinch Free', 'Focus', \"Forager's Luck\", 'Fortify', 'Free Elem/Ammo Up', 'Free Meal')\n",
      "('Geologist', 'Guard')\n",
      "('Handicraft', 'Health Boost', 'Heat Guard', 'Heavy Artillery', 'Heroics', 'Honey Hunter', 'Horn Maestro', 'Hunger Resistance')\n",
      "('Ice Attack', 'Ice Resistance', 'Intimidator', 'Iron Skin', 'Item Prolonger')\n",
      "('Jump Master',)\n",
      "('Latent Power', 'Leap of Faith')\n",
      "('Marathon Runner', 'Master Fisher', 'Master Gatherer', 'Master Mounter', 'Maximum Might', 'Muck Resistance', 'Mushroomancer')\n",
      "('Normal Shots',)\n",
      "('Offensive Guard',)\n",
      "('Palico Rally', 'Paralysis Attack', 'Paralysis Resistance', 'Partbreaker', 'Peak Performance', 'Piercing Shots', 'Poison Attack', 'Poison Resistance', 'Power Prolonger', 'Pro Transporter')\n",
      "('Quick Sheath',)\n",
      "('Recovery Speed', 'Recovery Up', 'Resentment', 'Resuscitate')\n",
      "('Scenthound', 'Scholar', 'Scoutfly Range Up', 'Sleep Attack', 'Sleep Functionality', 'Sleep Resistance', 'Slinger Capacity', 'Slugger', 'Special Ammo Boost', 'Speed Crawler', 'Speed Eating', 'Speed Sharpening', 'Spread/Power Shots', 'Stamina Surge', 'Stamina Thief', 'Stealth', 'Stun Resistance', 'Survival Expert')\n",
      "('Thunder Attack', 'Thunder Resistance', 'Tool Specialist', 'Tremor Resistance')\n",
      "('Water Attack', 'Water Resistance', 'Weakness Exploit', 'Wide-Range', 'Windproof')\n"
     ]
    }
   ],
   "source": [
    "skill_list = tuple(sorted(set(armor[\"skill1_name\"] for armor in armor_skills_table.values() if armor[\"skill1_name\"] != \"\").union(set(armor[\"skill2_name\"] for armor in armor_skills_table.values() if armor[\"skill2_name\"] != \"\"))))\n",
    "for letter in \"ABCDEFGHIJKLMNOPQRSTUVWXYZ\":\n",
    "    out = tuple(skill for skill in skill_list if skill[0] == letter)\n",
    "    if len(out) > 0:\n",
    "        print(out)"
   ]
  },
  {
   "cell_type": "code",
   "execution_count": 419,
   "metadata": {},
   "outputs": [],
   "source": [
    "desired_skills = {\n",
    "    \"Artillery\": 3,\n",
    "    \"Capacity Boost\": 1,\n",
    "    \"Evade Extender\": 3,\n",
    "    \"Quick Sheath\": 2,\n",
    "    \"Divine Blessing\": 3,\n",
    "    \"Slinger Capacity\": 3,\n",
    "}"
   ]
  },
  {
   "cell_type": "code",
   "execution_count": 420,
   "metadata": {},
   "outputs": [],
   "source": [
    "import numpy\n",
    "\n",
    "# maximize this\n",
    "defense_row = numpy.fromiter((equipment[\"defense_base\"] for equipment in equipment_table), int)\n",
    "\n",
    "# there must be exactly one of each\n",
    "head_row = numpy.fromiter((equipment[\"type\"] == \"head\" for equipment in equipment_table), int)\n",
    "chest_row = numpy.fromiter((equipment[\"type\"] == \"chest\" for equipment in equipment_table), int)\n",
    "arms_row = numpy.fromiter((equipment[\"type\"] == \"arms\" for equipment in equipment_table), int)\n",
    "waist_row = numpy.fromiter((equipment[\"type\"] == \"waist\" for equipment in equipment_table), int)\n",
    "legs_row = numpy.fromiter((equipment[\"type\"] == \"legs\" for equipment in equipment_table), int)\n",
    "charm_row = numpy.fromiter((equipment[\"type\"] == \"charm\" for equipment in equipment_table), int)\n",
    "\n",
    "equipment_matrix = numpy.vstack((head_row, chest_row, arms_row, waist_row, legs_row, charm_row))\n",
    "equipment_upper_bound = numpy.ones(6)\n",
    "equipment_lower_bound = numpy.ones(6)\n",
    "\n",
    "# there must be the user selected skills\n",
    "def get_skill_level(equipment, skill):\n",
    "    if equipment[\"skill1_name\"] == skill:\n",
    "        return equipment[\"skill1_level\"]\n",
    "    if equipment[\"skill2_name\"] == skill:\n",
    "        return equipment[\"skill2_level\"]\n",
    "    return 0\n",
    "\n",
    "skill_matrix = numpy.vstack(\n",
    "    tuple(\n",
    "        numpy.fromiter((get_skill_level(equipment, skill) for equipment in equipment_table), int)\n",
    "        for skill in skill_list\n",
    "    )\n",
    ")\n",
    "skill_lower_bound = numpy.fromiter((desired_skills[skill] if skill in desired_skills else 0 for skill in skill_list), int)"
   ]
  },
  {
   "cell_type": "code",
   "execution_count": 421,
   "metadata": {},
   "outputs": [
    {
     "name": "stdout",
     "output_type": "stream",
     "text": [
      "Dodogama Greaves α+\n",
      "Rimeguard Mail α+\n",
      "Brachydium Braces α+\n",
      "Tentacle Coil  γ+\n",
      "Azure Age Hair α+\n",
      "Blessing Charm III\n",
      "{'Agitator': 2,\n",
      " 'Artillery': 3,\n",
      " 'Blast Attack': 1,\n",
      " 'Capacity Boost': 1,\n",
      " 'Critical Draw': 1,\n",
      " 'Divine Blessing': 3,\n",
      " 'Evade Extender': 3,\n",
      " 'Quick Sheath': 2,\n",
      " 'Recovery Speed': 2,\n",
      " 'Slinger Capacity': 3,\n",
      " 'Weakness Exploit': 1}\n",
      "defense: 790\n"
     ]
    }
   ],
   "source": [
    "from scipy import optimize\n",
    "\n",
    "res = optimize.linprog(\n",
    "    c=-defense_row,\n",
    "    A_ub=numpy.concatenate((equipment_matrix, -equipment_matrix, -skill_matrix)),\n",
    "    b_ub=numpy.concatenate((equipment_upper_bound, -equipment_lower_bound, -skill_lower_bound)),\n",
    "    bounds=(0, 1),\n",
    "    integrality=1,\n",
    ")\n",
    "\n",
    "output = list()\n",
    "for equipment, delta in zip(equipment_table, res.x):\n",
    "    if delta > 0:\n",
    "        output.append(equipment)\n",
    "print(\"\\n\".join(equipment[\"name_en\"] for equipment in output))\n",
    "\n",
    "skills = dict()\n",
    "for equipment in output:\n",
    "    if equipment[\"skill1_name\"] != \"\":\n",
    "        if equipment[\"skill1_name\"] not in skills:\n",
    "            skills[equipment[\"skill1_name\"]] = 0\n",
    "        skills[equipment[\"skill1_name\"]] += int(equipment[\"skill1_level\"])\n",
    "    if equipment[\"skill2_name\"] != \"\":\n",
    "        if equipment[\"skill2_name\"] not in skills:\n",
    "            skills[equipment[\"skill2_name\"]] = 0\n",
    "        skills[equipment[\"skill2_name\"]] += int(equipment[\"skill2_level\"])\n",
    "pprint.pprint(skills)\n",
    "\n",
    "print(f\"defense: {sum(equipment['defense_base'] for equipment in output)}\")"
   ]
  },
  {
   "cell_type": "code",
   "execution_count": 422,
   "metadata": {},
   "outputs": [
    {
     "name": "stdout",
     "output_type": "stream",
     "text": [
      "Dodogama Greaves β+\n",
      "Rimeguard Mail α+\n",
      "Golden Lunecoil α+\n",
      "Brachydium Braces α+\n",
      "Azure Age Hair α+\n",
      "Leaping Charm III\n",
      "{'Agitator': 2,\n",
      " 'Artillery': 3,\n",
      " 'Capacity Boost': 1,\n",
      " 'Critical Draw': 1,\n",
      " 'Divine Blessing': 3,\n",
      " 'Evade Extender': 3,\n",
      " 'Health Boost': 1,\n",
      " 'Quick Sheath': 2,\n",
      " 'Slinger Capacity': 3,\n",
      " 'Weakness Exploit': 1}\n",
      "defense: 776\n"
     ]
    }
   ],
   "source": [
    "import random\n",
    "res = optimize.linprog(\n",
    "    c=-numpy.fromiter((random.random() for _ in defense_row), float),\n",
    "    A_ub=numpy.concatenate((equipment_matrix, -equipment_matrix, -skill_matrix)),\n",
    "    b_ub=numpy.concatenate((equipment_upper_bound, -equipment_lower_bound, -skill_lower_bound)),\n",
    "    bounds=(0, 1),\n",
    "    integrality=1,\n",
    ")\n",
    "\n",
    "output = list()\n",
    "for equipment, delta in zip(equipment_table, res.x):\n",
    "    if delta > 0:\n",
    "        output.append(equipment)\n",
    "print(\"\\n\".join(equipment[\"name_en\"] for equipment in output))\n",
    "\n",
    "skills = dict()\n",
    "for equipment in output:\n",
    "    if equipment[\"skill1_name\"] != \"\":\n",
    "        if equipment[\"skill1_name\"] not in skills:\n",
    "            skills[equipment[\"skill1_name\"]] = 0\n",
    "        skills[equipment[\"skill1_name\"]] += int(equipment[\"skill1_level\"])\n",
    "    if equipment[\"skill2_name\"] != \"\":\n",
    "        if equipment[\"skill2_name\"] not in skills:\n",
    "            skills[equipment[\"skill2_name\"]] = 0\n",
    "        skills[equipment[\"skill2_name\"]] += int(equipment[\"skill2_level\"])\n",
    "pprint.pprint(skills)\n",
    "\n",
    "print(f\"defense: {sum(equipment['defense_base'] for equipment in output)}\")"
   ]
  },
  {
   "cell_type": "code",
   "execution_count": 423,
   "metadata": {},
   "outputs": [
    {
     "name": "stdout",
     "output_type": "stream",
     "text": [
      "('Agitator', 2), ('Artillery', 3), \n",
      "('Blast Attack', 1), \n",
      "('Capacity Boost', 1), ('Critical Draw', 1), \n",
      "('Divine Blessing', 3), \n",
      "('Evade Extender', 3), \n",
      "('Health Boost', 1), \n",
      "('Quick Sheath', 2), \n",
      "('Recovery Speed', 2), \n",
      "('Slinger Capacity', 3), \n",
      "('Weakness Exploit', 1), "
     ]
    }
   ],
   "source": [
    "possible_skills = dict()\n",
    "letter = None\n",
    "for new_skill in skill_list:\n",
    "    for new_skill_level in range(1, 5):\n",
    "        new_skill_lower_bound = numpy.fromiter((new_skill_level if new_skill == skill else 0 for skill in skill_list), int)\n",
    "\n",
    "        res = optimize.linprog(\n",
    "            c=numpy.zeros_like(defense_row),\n",
    "            A_ub=numpy.concatenate((equipment_matrix, -equipment_matrix, -skill_matrix, -skill_matrix)),\n",
    "            b_ub=numpy.concatenate((equipment_upper_bound, -equipment_lower_bound, -skill_lower_bound, -new_skill_lower_bound)),\n",
    "            bounds=(0, 1),\n",
    "            integrality=1,\n",
    "        )\n",
    "\n",
    "        if res.status == 0:\n",
    "            possible_skills[new_skill] = new_skill_level\n",
    "\n",
    "    if new_skill in possible_skills:\n",
    "        if new_skill[0] != letter:\n",
    "            if letter != None:\n",
    "                print()\n",
    "            letter = new_skill[0]\n",
    "        print((new_skill, possible_skills[new_skill]), end=\", \")"
   ]
  }
 ],
 "metadata": {
  "kernelspec": {
   "display_name": "Python 3",
   "language": "python",
   "name": "python3"
  },
  "language_info": {
   "codemirror_mode": {
    "name": "ipython",
    "version": 3
   },
   "file_extension": ".py",
   "mimetype": "text/x-python",
   "name": "python",
   "nbconvert_exporter": "python",
   "pygments_lexer": "ipython3",
   "version": "3.10.4"
  },
  "orig_nbformat": 4
 },
 "nbformat": 4,
 "nbformat_minor": 2
}
